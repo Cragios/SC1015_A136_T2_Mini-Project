{
 "cells": [
  {
   "cell_type": "code",
   "execution_count": 1,
   "id": "3804f7ff",
   "metadata": {},
   "outputs": [],
   "source": [
    "import pandas as pd\n",
    "import numpy as np\n",
    "from sklearn.model_selection import train_test_split\n",
    "from sklearn.ensemble import RandomForestClassifier\n",
    "from sklearn.metrics import accuracy_score\n",
    "from sklearn.preprocessing import StandardScaler\n"
   ]
  },
  {
   "cell_type": "code",
   "execution_count": 2,
   "id": "da2ac741",
   "metadata": {},
   "outputs": [],
   "source": [
    "# Load your data into a pandas dataframe\n",
    "data = pd.read_csv('features.csv',index_col=0)\n",
    "data = data[~data.isnull().any(axis=1)]"
   ]
  },
  {
   "cell_type": "code",
   "execution_count": 3,
   "id": "727ddb66",
   "metadata": {},
   "outputs": [],
   "source": [
    "# Split the data into training and testing sets\n",
    "train, test = train_test_split(data, test_size=0.2, random_state=42)\n",
    "\n",
    "\n",
    "# Separate the target variable from the input features\n",
    "X_train = train.drop('OUTCOMETYPE', axis=1)\n",
    "y_train = train['OUTCOMETYPE']\n",
    "\n",
    "X_test = test.drop('OUTCOMETYPE', axis=1)\n",
    "y_test = test['OUTCOMETYPE']\n",
    "\n",
    "cols = X_train.columns\n"
   ]
  },
  {
   "cell_type": "code",
   "execution_count": 4,
   "id": "02da4049",
   "metadata": {},
   "outputs": [],
   "source": [
    "# Scale the input features using StandardScaler\n",
    "scaler = StandardScaler()\n",
    "X_train = scaler.fit_transform(X_train)\n",
    "X_test = scaler.transform(X_test)"
   ]
  },
  {
   "cell_type": "code",
   "execution_count": 5,
   "id": "0abe2bfa",
   "metadata": {},
   "outputs": [
    {
     "name": "stdout",
     "output_type": "stream",
     "text": [
      "Accuracy: 0.76\n"
     ]
    }
   ],
   "source": [
    "# Train a random forest classifier with default parameters\n",
    "rfc = RandomForestClassifier(n_estimators=100, random_state=42)\n",
    "rfc.fit(X_train, y_train)\n",
    "\n",
    "# Make predictions on the testing set\n",
    "y_pred = rfc.predict(X_test)\n",
    "\n",
    "# Calculate the accuracy of the model\n",
    "accuracy = accuracy_score(y_test, y_pred)\n",
    "print(f\"Accuracy: {accuracy:.2f}\")"
   ]
  },
  {
   "cell_type": "code",
   "execution_count": 6,
   "id": "d2c526a1",
   "metadata": {},
   "outputs": [
    {
     "name": "stdout",
     "output_type": "stream",
     "text": [
      "Confusion Matrix:\n",
      "[[5562   36  954]\n",
      " [ 221   96  121]\n",
      " [1306   22 2623]]\n",
      "Classification Report:\n",
      "              precision    recall  f1-score   support\n",
      "\n",
      "       ADOPT       0.78      0.85      0.82      6552\n",
      "        DIED       0.62      0.22      0.32       438\n",
      "         RTO       0.71      0.66      0.69      3951\n",
      "\n",
      "    accuracy                           0.76     10941\n",
      "   macro avg       0.71      0.58      0.61     10941\n",
      "weighted avg       0.75      0.76      0.75     10941\n",
      "\n"
     ]
    }
   ],
   "source": [
    "from sklearn.metrics import classification_report, confusion_matrix\n",
    "\n",
    "# Print the confusion matrix\n",
    "print(\"Confusion Matrix:\")\n",
    "print(confusion_matrix(y_test, y_pred))\n",
    "\n",
    "# Print the classification report\n",
    "print(\"Classification Report:\")\n",
    "print(classification_report(y_test, y_pred))\n",
    "\n",
    "# Get feature importances\n",
    "importances = rfc.feature_importances_\n",
    "\n",
    "# Sort feature importances in descending order\n",
    "indices = np.argsort(importances)[::-1]"
   ]
  },
  {
   "cell_type": "code",
   "execution_count": 7,
   "id": "bb5350ab",
   "metadata": {},
   "outputs": [
    {
     "name": "stdout",
     "output_type": "stream",
     "text": [
      "######################################################################\n",
      "FEATURE RANKING USING IMPORTANCE SCORE\n",
      "######################################################################\n",
      "RANK \tIMPORTANCE \tFEATURE\n",
      "---- \t---------- \t--------------------------\n",
      "1. \t(0.31) \t\tAGEOUTCOME \n",
      "2. \t(0.16) \t\tPREVHIST \n",
      "3. \t(0.14) \t\tIS_PUREBREED \n",
      "4. \t(0.08) \t\tINTAKETYPE_ABANDONED \n",
      "5. \t(0.06) \t\tINTAKETYPE_EUTHANASIAREQUEST \n",
      "6. \t(0.05) \t\tINTAKETYPE_OWNERSURRENDER \n",
      "7. \t(0.04) \t\tINTAKETYPE_PUBLICASSIST \n",
      "8. \t(0.04) \t\tINTAKETYPE_STRAY \n",
      "9. \t(0.03) \t\tINTAKECONDITION_AGED \n",
      "10. \t(0.02) \t\tINTAKECONDITION_BEHAVIOR \n",
      "11. \t(0.02) \t\tINTAKECONDITION_FERAL \n",
      "12. \t(0.01) \t\tINTAKECONDITION_INJURED \n",
      "13. \t(0.01) \t\tINTAKECONDITION_MEDICAL \n",
      "14. \t(0.01) \t\tINTAKECONDITION_NORMAL \n",
      "15. \t(0.01) \t\tINTAKECONDITION_NURSING \n",
      "16. \t(0.00) \t\tINTAKECONDITION_OTHER \n",
      "17. \t(0.00) \t\tINTAKECONDITION_PREGNANT \n",
      "18. \t(0.00) \t\tINTAKECONDITION_SICK \n",
      "19. \t(0.00) \t\tSEXINTAKE_INTACTFEMALE \n",
      "20. \t(0.00) \t\tSEXINTAKE_INTACTMALE \n",
      "21. \t(0.00) \t\tSEXINTAKE_NEUTEREDMALE \n",
      "22. \t(0.00) \t\tSEXINTAKE_SPAYEDFEMALE \n",
      "23. \t(0.00) \t\tSEXINTAKE_UNKNOWN \n",
      "######################################################################\n"
     ]
    }
   ],
   "source": [
    "# Print the feature ranking\n",
    "print(70*\"#\")\n",
    "print(\"FEATURE RANKING USING IMPORTANCE SCORE\")\n",
    "print(70*\"#\")\n",
    "print(\"RANK\",\"\\tIMPORTANCE\", \"\\tFEATURE\")\n",
    "print(\"----\",\"\\t----------\", \"\\t--------------------------\")\n",
    "for f in range(X_train.shape[1]):    \n",
    "    #print(f\"{f + 1}. feature {indices[f]} ({importances[indices[f]]:.2f})\")\n",
    "    print(f\"{f + 1}. \\t({importances[indices[f]]:.2f}) \\t\\t{cols[f]} \")\n",
    "print(70*\"#\")"
   ]
  },
  {
   "cell_type": "code",
   "execution_count": null,
   "id": "b78f4600",
   "metadata": {},
   "outputs": [],
   "source": []
  }
 ],
 "metadata": {
  "kernelspec": {
   "display_name": "Python 3 (ipykernel)",
   "language": "python",
   "name": "python3"
  },
  "language_info": {
   "codemirror_mode": {
    "name": "ipython",
    "version": 3
   },
   "file_extension": ".py",
   "mimetype": "text/x-python",
   "name": "python",
   "nbconvert_exporter": "python",
   "pygments_lexer": "ipython3",
   "version": "3.9.13"
  }
 },
 "nbformat": 4,
 "nbformat_minor": 5
}
