{
 "cells": [
  {
   "cell_type": "code",
   "execution_count": 3,
   "metadata": {
    "_cell_guid": "b1076dfc-b9ad-4769-8c92-a6c4dae69d19",
    "_uuid": "8f2839f25d086af736a60e9eeb907d3b93b6e0e5",
    "execution": {
     "iopub.execute_input": "2023-03-19T04:37:55.164355Z",
     "iopub.status.busy": "2023-03-19T04:37:55.163901Z",
     "iopub.status.idle": "2023-03-19T04:37:56.382095Z",
     "shell.execute_reply": "2023-03-19T04:37:56.380520Z",
     "shell.execute_reply.started": "2023-03-19T04:37:55.164313Z"
    }
   },
   "outputs": [],
   "source": [
    "# Basic Libraries\n",
    "import numpy as np\n",
    "import pandas as pd\n",
    "import seaborn as sb\n",
    "import matplotlib.pyplot as plt # we only need pyplot\n",
    "sb.set() # set the default Seaborn style for graphics"
   ]
  },
  {
   "cell_type": "code",
   "execution_count": 4,
   "metadata": {
    "execution": {
     "iopub.execute_input": "2023-03-19T04:38:02.021238Z",
     "iopub.status.busy": "2023-03-19T04:38:02.020744Z",
     "iopub.status.idle": "2023-03-19T04:38:02.741534Z",
     "shell.execute_reply": "2023-03-19T04:38:02.740349Z",
     "shell.execute_reply.started": "2023-03-19T04:38:02.021171Z"
    }
   },
   "outputs": [
    {
     "data": {
      "text/html": [
       "<div>\n",
       "<style scoped>\n",
       "    .dataframe tbody tr th:only-of-type {\n",
       "        vertical-align: middle;\n",
       "    }\n",
       "\n",
       "    .dataframe tbody tr th {\n",
       "        vertical-align: top;\n",
       "    }\n",
       "\n",
       "    .dataframe thead th {\n",
       "        text-align: right;\n",
       "    }\n",
       "</style>\n",
       "<table border=\"1\" class=\"dataframe\">\n",
       "  <thead>\n",
       "    <tr style=\"text-align: right;\">\n",
       "      <th></th>\n",
       "      <th>Animal ID</th>\n",
       "      <th>Name</th>\n",
       "      <th>DateTime</th>\n",
       "      <th>MonthYear</th>\n",
       "      <th>Date of Birth</th>\n",
       "      <th>Outcome Type</th>\n",
       "      <th>Outcome Subtype</th>\n",
       "      <th>Animal Type</th>\n",
       "      <th>Sex upon Outcome</th>\n",
       "      <th>Age upon Outcome</th>\n",
       "      <th>Breed</th>\n",
       "      <th>Color</th>\n",
       "    </tr>\n",
       "  </thead>\n",
       "  <tbody>\n",
       "    <tr>\n",
       "      <th>0</th>\n",
       "      <td>A794011</td>\n",
       "      <td>Chunk</td>\n",
       "      <td>05/08/2019 06:20:00 PM</td>\n",
       "      <td>05/08/2019 06:20:00 PM</td>\n",
       "      <td>05/02/2017</td>\n",
       "      <td>Rto-Adopt</td>\n",
       "      <td>NaN</td>\n",
       "      <td>Cat</td>\n",
       "      <td>Neutered Male</td>\n",
       "      <td>2 years</td>\n",
       "      <td>Domestic Shorthair Mix</td>\n",
       "      <td>Brown Tabby/White</td>\n",
       "    </tr>\n",
       "    <tr>\n",
       "      <th>1</th>\n",
       "      <td>A776359</td>\n",
       "      <td>Gizmo</td>\n",
       "      <td>07/18/2018 04:02:00 PM</td>\n",
       "      <td>07/18/2018 04:02:00 PM</td>\n",
       "      <td>07/12/2017</td>\n",
       "      <td>Adoption</td>\n",
       "      <td>NaN</td>\n",
       "      <td>Dog</td>\n",
       "      <td>Neutered Male</td>\n",
       "      <td>1 year</td>\n",
       "      <td>Chihuahua Shorthair Mix</td>\n",
       "      <td>White/Brown</td>\n",
       "    </tr>\n",
       "    <tr>\n",
       "      <th>2</th>\n",
       "      <td>A821648</td>\n",
       "      <td>NaN</td>\n",
       "      <td>08/16/2020 11:38:00 AM</td>\n",
       "      <td>08/16/2020 11:38:00 AM</td>\n",
       "      <td>08/16/2019</td>\n",
       "      <td>Euthanasia</td>\n",
       "      <td>NaN</td>\n",
       "      <td>Other</td>\n",
       "      <td>Unknown</td>\n",
       "      <td>1 year</td>\n",
       "      <td>Raccoon</td>\n",
       "      <td>Gray</td>\n",
       "    </tr>\n",
       "    <tr>\n",
       "      <th>3</th>\n",
       "      <td>A720371</td>\n",
       "      <td>Moose</td>\n",
       "      <td>02/13/2016 05:59:00 PM</td>\n",
       "      <td>02/13/2016 05:59:00 PM</td>\n",
       "      <td>10/08/2015</td>\n",
       "      <td>Adoption</td>\n",
       "      <td>NaN</td>\n",
       "      <td>Dog</td>\n",
       "      <td>Neutered Male</td>\n",
       "      <td>4 months</td>\n",
       "      <td>Anatol Shepherd/Labrador Retriever</td>\n",
       "      <td>Buff</td>\n",
       "    </tr>\n",
       "    <tr>\n",
       "      <th>4</th>\n",
       "      <td>A674754</td>\n",
       "      <td>NaN</td>\n",
       "      <td>03/18/2014 11:47:00 AM</td>\n",
       "      <td>03/18/2014 11:47:00 AM</td>\n",
       "      <td>03/12/2014</td>\n",
       "      <td>Transfer</td>\n",
       "      <td>Partner</td>\n",
       "      <td>Cat</td>\n",
       "      <td>Intact Male</td>\n",
       "      <td>6 days</td>\n",
       "      <td>Domestic Shorthair Mix</td>\n",
       "      <td>Orange Tabby</td>\n",
       "    </tr>\n",
       "  </tbody>\n",
       "</table>\n",
       "</div>"
      ],
      "text/plain": [
       "  Animal ID   Name                DateTime               MonthYear  \\\n",
       "0   A794011  Chunk  05/08/2019 06:20:00 PM  05/08/2019 06:20:00 PM   \n",
       "1   A776359  Gizmo  07/18/2018 04:02:00 PM  07/18/2018 04:02:00 PM   \n",
       "2   A821648    NaN  08/16/2020 11:38:00 AM  08/16/2020 11:38:00 AM   \n",
       "3   A720371  Moose  02/13/2016 05:59:00 PM  02/13/2016 05:59:00 PM   \n",
       "4   A674754    NaN  03/18/2014 11:47:00 AM  03/18/2014 11:47:00 AM   \n",
       "\n",
       "  Date of Birth Outcome Type Outcome Subtype Animal Type Sex upon Outcome  \\\n",
       "0    05/02/2017    Rto-Adopt             NaN         Cat    Neutered Male   \n",
       "1    07/12/2017     Adoption             NaN         Dog    Neutered Male   \n",
       "2    08/16/2019   Euthanasia             NaN       Other          Unknown   \n",
       "3    10/08/2015     Adoption             NaN         Dog    Neutered Male   \n",
       "4    03/12/2014     Transfer         Partner         Cat      Intact Male   \n",
       "\n",
       "  Age upon Outcome                               Breed              Color  \n",
       "0          2 years              Domestic Shorthair Mix  Brown Tabby/White  \n",
       "1           1 year             Chihuahua Shorthair Mix        White/Brown  \n",
       "2           1 year                             Raccoon               Gray  \n",
       "3         4 months  Anatol Shepherd/Labrador Retriever               Buff  \n",
       "4           6 days              Domestic Shorthair Mix       Orange Tabby  "
      ]
     },
     "execution_count": 4,
     "metadata": {},
     "output_type": "execute_result"
    }
   ],
   "source": [
    "data = pd.read_csv('/kaggle/input/animal-shelter-analytics/Austin_Animal_Center_Outcomes.csv')\n",
    "data.head()"
   ]
  },
  {
   "cell_type": "code",
   "execution_count": 5,
   "metadata": {
    "execution": {
     "iopub.execute_input": "2023-03-19T04:38:13.474012Z",
     "iopub.status.busy": "2023-03-19T04:38:13.473585Z",
     "iopub.status.idle": "2023-03-19T04:38:13.480860Z",
     "shell.execute_reply": "2023-03-19T04:38:13.479422Z",
     "shell.execute_reply.started": "2023-03-19T04:38:13.473973Z"
    }
   },
   "outputs": [
    {
     "name": "stdout",
     "output_type": "stream",
     "text": [
      "Data type :  <class 'pandas.core.frame.DataFrame'>\n",
      "Data dims :  (124491, 12)\n"
     ]
    }
   ],
   "source": [
    "print(\"Data type : \", type(data))\n",
    "print(\"Data dims : \", data.shape)"
   ]
  },
  {
   "cell_type": "code",
   "execution_count": 6,
   "metadata": {
    "execution": {
     "iopub.execute_input": "2023-03-19T04:38:18.428545Z",
     "iopub.status.busy": "2023-03-19T04:38:18.427695Z",
     "iopub.status.idle": "2023-03-19T04:38:18.434608Z",
     "shell.execute_reply": "2023-03-19T04:38:18.433627Z",
     "shell.execute_reply.started": "2023-03-19T04:38:18.428499Z"
    }
   },
   "outputs": [
    {
     "name": "stdout",
     "output_type": "stream",
     "text": [
      "Animal ID           object\n",
      "Name                object\n",
      "DateTime            object\n",
      "MonthYear           object\n",
      "Date of Birth       object\n",
      "Outcome Type        object\n",
      "Outcome Subtype     object\n",
      "Animal Type         object\n",
      "Sex upon Outcome    object\n",
      "Age upon Outcome    object\n",
      "Breed               object\n",
      "Color               object\n",
      "dtype: object\n"
     ]
    }
   ],
   "source": [
    "print(data.dtypes)"
   ]
  },
  {
   "cell_type": "code",
   "execution_count": 7,
   "metadata": {
    "execution": {
     "iopub.execute_input": "2023-03-19T04:38:21.930352Z",
     "iopub.status.busy": "2023-03-19T04:38:21.929514Z",
     "iopub.status.idle": "2023-03-19T04:38:22.027844Z",
     "shell.execute_reply": "2023-03-19T04:38:22.026867Z",
     "shell.execute_reply.started": "2023-03-19T04:38:21.930305Z"
    }
   },
   "outputs": [
    {
     "name": "stdout",
     "output_type": "stream",
     "text": [
      "<class 'pandas.core.frame.DataFrame'>\n",
      "RangeIndex: 124491 entries, 0 to 124490\n",
      "Data columns (total 12 columns):\n",
      " #   Column            Non-Null Count   Dtype \n",
      "---  ------            --------------   ----- \n",
      " 0   Animal ID         124491 non-null  object\n",
      " 1   Name              85466 non-null   object\n",
      " 2   DateTime          124491 non-null  object\n",
      " 3   MonthYear         124491 non-null  object\n",
      " 4   Date of Birth     124491 non-null  object\n",
      " 5   Outcome Type      124471 non-null  object\n",
      " 6   Outcome Subtype   57308 non-null   object\n",
      " 7   Animal Type       124491 non-null  object\n",
      " 8   Sex upon Outcome  124490 non-null  object\n",
      " 9   Age upon Outcome  124486 non-null  object\n",
      " 10  Breed             124491 non-null  object\n",
      " 11  Color             124491 non-null  object\n",
      "dtypes: object(12)\n",
      "memory usage: 11.4+ MB\n"
     ]
    }
   ],
   "source": [
    "data.info()"
   ]
  },
  {
   "cell_type": "code",
   "execution_count": 8,
   "metadata": {
    "execution": {
     "iopub.execute_input": "2023-03-19T04:38:31.003385Z",
     "iopub.status.busy": "2023-03-19T04:38:31.002654Z",
     "iopub.status.idle": "2023-03-19T04:38:31.010453Z",
     "shell.execute_reply": "2023-03-19T04:38:31.009381Z",
     "shell.execute_reply.started": "2023-03-19T04:38:31.003341Z"
    }
   },
   "outputs": [
    {
     "data": {
      "text/plain": [
       "Index(['Animal ID', 'Name', 'DateTime', 'MonthYear', 'Date of Birth',\n",
       "       'Outcome Type', 'Outcome Subtype', 'Animal Type', 'Sex upon Outcome',\n",
       "       'Age upon Outcome', 'Breed', 'Color'],\n",
       "      dtype='object')"
      ]
     },
     "execution_count": 8,
     "metadata": {},
     "output_type": "execute_result"
    }
   ],
   "source": [
    "data.columns"
   ]
  },
  {
   "cell_type": "code",
   "execution_count": 9,
   "metadata": {
    "execution": {
     "iopub.execute_input": "2023-03-19T04:38:34.709322Z",
     "iopub.status.busy": "2023-03-19T04:38:34.708416Z",
     "iopub.status.idle": "2023-03-19T04:38:34.745454Z",
     "shell.execute_reply": "2023-03-19T04:38:34.744175Z",
     "shell.execute_reply.started": "2023-03-19T04:38:34.709259Z"
    }
   },
   "outputs": [],
   "source": [
    "data2 = data.copy()"
   ]
  },
  {
   "cell_type": "code",
   "execution_count": 10,
   "metadata": {
    "execution": {
     "iopub.execute_input": "2023-03-19T04:38:38.228266Z",
     "iopub.status.busy": "2023-03-19T04:38:38.227808Z",
     "iopub.status.idle": "2023-03-19T04:38:38.260180Z",
     "shell.execute_reply": "2023-03-19T04:38:38.259075Z",
     "shell.execute_reply.started": "2023-03-19T04:38:38.228222Z"
    }
   },
   "outputs": [],
   "source": [
    "data2.drop('Name', inplace=True, axis=1)"
   ]
  },
  {
   "cell_type": "code",
   "execution_count": 11,
   "metadata": {
    "execution": {
     "iopub.execute_input": "2023-03-19T04:38:43.002264Z",
     "iopub.status.busy": "2023-03-19T04:38:43.001813Z",
     "iopub.status.idle": "2023-03-19T04:38:43.088470Z",
     "shell.execute_reply": "2023-03-19T04:38:43.086822Z",
     "shell.execute_reply.started": "2023-03-19T04:38:43.002222Z"
    }
   },
   "outputs": [
    {
     "name": "stdout",
     "output_type": "stream",
     "text": [
      "<class 'pandas.core.frame.DataFrame'>\n",
      "RangeIndex: 124491 entries, 0 to 124490\n",
      "Data columns (total 11 columns):\n",
      " #   Column            Non-Null Count   Dtype \n",
      "---  ------            --------------   ----- \n",
      " 0   Animal ID         124491 non-null  object\n",
      " 1   DateTime          124491 non-null  object\n",
      " 2   MonthYear         124491 non-null  object\n",
      " 3   Date of Birth     124491 non-null  object\n",
      " 4   Outcome Type      124471 non-null  object\n",
      " 5   Outcome Subtype   57308 non-null   object\n",
      " 6   Animal Type       124491 non-null  object\n",
      " 7   Sex upon Outcome  124490 non-null  object\n",
      " 8   Age upon Outcome  124486 non-null  object\n",
      " 9   Breed             124491 non-null  object\n",
      " 10  Color             124491 non-null  object\n",
      "dtypes: object(11)\n",
      "memory usage: 10.4+ MB\n"
     ]
    }
   ],
   "source": [
    "data2.info()\n"
   ]
  },
  {
   "cell_type": "code",
   "execution_count": 12,
   "metadata": {
    "execution": {
     "iopub.execute_input": "2023-03-19T04:38:46.629121Z",
     "iopub.status.busy": "2023-03-19T04:38:46.628679Z",
     "iopub.status.idle": "2023-03-19T04:38:46.707371Z",
     "shell.execute_reply": "2023-03-19T04:38:46.705882Z",
     "shell.execute_reply.started": "2023-03-19T04:38:46.629083Z"
    }
   },
   "outputs": [
    {
     "data": {
      "text/plain": [
       "Animal ID               0\n",
       "DateTime                0\n",
       "MonthYear               0\n",
       "Date of Birth           0\n",
       "Outcome Type           20\n",
       "Outcome Subtype     67183\n",
       "Animal Type             0\n",
       "Sex upon Outcome        1\n",
       "Age upon Outcome        5\n",
       "Breed                   0\n",
       "Color                   0\n",
       "dtype: int64"
      ]
     },
     "execution_count": 12,
     "metadata": {},
     "output_type": "execute_result"
    }
   ],
   "source": [
    "data2.isnull().sum()"
   ]
  },
  {
   "cell_type": "code",
   "execution_count": 13,
   "metadata": {
    "execution": {
     "iopub.execute_input": "2023-03-19T04:48:39.739107Z",
     "iopub.status.busy": "2023-03-19T04:48:39.738006Z",
     "iopub.status.idle": "2023-03-19T04:48:39.767401Z",
     "shell.execute_reply": "2023-03-19T04:48:39.766088Z",
     "shell.execute_reply.started": "2023-03-19T04:48:39.739056Z"
    }
   },
   "outputs": [],
   "source": [
    "data2.drop('Outcome Subtype', inplace=True, axis=1)"
   ]
  },
  {
   "cell_type": "code",
   "execution_count": 14,
   "metadata": {
    "execution": {
     "iopub.execute_input": "2023-03-19T04:48:51.558878Z",
     "iopub.status.busy": "2023-03-19T04:48:51.558439Z",
     "iopub.status.idle": "2023-03-19T04:48:51.635716Z",
     "shell.execute_reply": "2023-03-19T04:48:51.634163Z",
     "shell.execute_reply.started": "2023-03-19T04:48:51.558829Z"
    }
   },
   "outputs": [
    {
     "name": "stdout",
     "output_type": "stream",
     "text": [
      "<class 'pandas.core.frame.DataFrame'>\n",
      "RangeIndex: 124491 entries, 0 to 124490\n",
      "Data columns (total 10 columns):\n",
      " #   Column            Non-Null Count   Dtype \n",
      "---  ------            --------------   ----- \n",
      " 0   Animal ID         124491 non-null  object\n",
      " 1   DateTime          124491 non-null  object\n",
      " 2   MonthYear         124491 non-null  object\n",
      " 3   Date of Birth     124491 non-null  object\n",
      " 4   Outcome Type      124471 non-null  object\n",
      " 5   Animal Type       124491 non-null  object\n",
      " 6   Sex upon Outcome  124490 non-null  object\n",
      " 7   Age upon Outcome  124486 non-null  object\n",
      " 8   Breed             124491 non-null  object\n",
      " 9   Color             124491 non-null  object\n",
      "dtypes: object(10)\n",
      "memory usage: 9.5+ MB\n"
     ]
    }
   ],
   "source": [
    "data2.info()\n",
    "\n"
   ]
  },
  {
   "cell_type": "code",
   "execution_count": 15,
   "metadata": {
    "execution": {
     "iopub.execute_input": "2023-03-19T04:50:12.970547Z",
     "iopub.status.busy": "2023-03-19T04:50:12.970068Z",
     "iopub.status.idle": "2023-03-19T04:50:28.771632Z",
     "shell.execute_reply": "2023-03-19T04:50:28.770245Z",
     "shell.execute_reply.started": "2023-03-19T04:50:12.970502Z"
    }
   },
   "outputs": [],
   "source": [
    "data2['DateTime'] = pd.to_datetime(data2['DateTime'])"
   ]
  },
  {
   "cell_type": "code",
   "execution_count": 17,
   "metadata": {
    "execution": {
     "iopub.execute_input": "2023-03-19T04:51:21.954317Z",
     "iopub.status.busy": "2023-03-19T04:51:21.953888Z",
     "iopub.status.idle": "2023-03-19T04:51:22.128228Z",
     "shell.execute_reply": "2023-03-19T04:51:22.127250Z",
     "shell.execute_reply.started": "2023-03-19T04:51:21.954277Z"
    }
   },
   "outputs": [],
   "source": [
    "data2.drop_duplicates(inplace=True)"
   ]
  },
  {
   "cell_type": "code",
   "execution_count": 18,
   "metadata": {
    "execution": {
     "iopub.execute_input": "2023-03-19T04:51:34.231005Z",
     "iopub.status.busy": "2023-03-19T04:51:34.230299Z",
     "iopub.status.idle": "2023-03-19T04:51:34.300721Z",
     "shell.execute_reply": "2023-03-19T04:51:34.299417Z",
     "shell.execute_reply.started": "2023-03-19T04:51:34.230951Z"
    }
   },
   "outputs": [
    {
     "name": "stdout",
     "output_type": "stream",
     "text": [
      "<class 'pandas.core.frame.DataFrame'>\n",
      "Int64Index: 124474 entries, 0 to 124490\n",
      "Data columns (total 10 columns):\n",
      " #   Column            Non-Null Count   Dtype         \n",
      "---  ------            --------------   -----         \n",
      " 0   Animal ID         124474 non-null  object        \n",
      " 1   DateTime          124474 non-null  datetime64[ns]\n",
      " 2   MonthYear         124474 non-null  object        \n",
      " 3   Date of Birth     124474 non-null  object        \n",
      " 4   Outcome Type      124454 non-null  object        \n",
      " 5   Animal Type       124474 non-null  object        \n",
      " 6   Sex upon Outcome  124473 non-null  object        \n",
      " 7   Age upon Outcome  124469 non-null  object        \n",
      " 8   Breed             124474 non-null  object        \n",
      " 9   Color             124474 non-null  object        \n",
      "dtypes: datetime64[ns](1), object(9)\n",
      "memory usage: 10.4+ MB\n"
     ]
    }
   ],
   "source": [
    "data2.info()"
   ]
  },
  {
   "cell_type": "code",
   "execution_count": 20,
   "metadata": {
    "execution": {
     "iopub.execute_input": "2023-03-19T04:52:04.228715Z",
     "iopub.status.busy": "2023-03-19T04:52:04.227847Z",
     "iopub.status.idle": "2023-03-19T04:52:04.234614Z",
     "shell.execute_reply": "2023-03-19T04:52:04.233487Z",
     "shell.execute_reply.started": "2023-03-19T04:52:04.228665Z"
    }
   },
   "outputs": [],
   "source": [
    "data2.rename(columns={'Animal Type': 'animal_type', 'Outcome Type': 'outcome_type', 'Sex upon Outcome': 'sex_upon_outcome'}, inplace=True)"
   ]
  },
  {
   "cell_type": "code",
   "execution_count": 21,
   "metadata": {
    "execution": {
     "iopub.execute_input": "2023-03-19T04:53:55.747356Z",
     "iopub.status.busy": "2023-03-19T04:53:55.746444Z",
     "iopub.status.idle": "2023-03-19T04:53:55.767060Z",
     "shell.execute_reply": "2023-03-19T04:53:55.765927Z",
     "shell.execute_reply.started": "2023-03-19T04:53:55.747300Z"
    }
   },
   "outputs": [],
   "source": [
    "data2 = data2.drop(['MonthYear','Date of Birth'], axis=1)\n"
   ]
  },
  {
   "cell_type": "code",
   "execution_count": 22,
   "metadata": {
    "execution": {
     "iopub.execute_input": "2023-03-19T04:54:16.025021Z",
     "iopub.status.busy": "2023-03-19T04:54:16.024624Z",
     "iopub.status.idle": "2023-03-19T04:54:16.040959Z",
     "shell.execute_reply": "2023-03-19T04:54:16.039652Z",
     "shell.execute_reply.started": "2023-03-19T04:54:16.024985Z"
    }
   },
   "outputs": [
    {
     "data": {
      "text/html": [
       "<div>\n",
       "<style scoped>\n",
       "    .dataframe tbody tr th:only-of-type {\n",
       "        vertical-align: middle;\n",
       "    }\n",
       "\n",
       "    .dataframe tbody tr th {\n",
       "        vertical-align: top;\n",
       "    }\n",
       "\n",
       "    .dataframe thead th {\n",
       "        text-align: right;\n",
       "    }\n",
       "</style>\n",
       "<table border=\"1\" class=\"dataframe\">\n",
       "  <thead>\n",
       "    <tr style=\"text-align: right;\">\n",
       "      <th></th>\n",
       "      <th>Animal ID</th>\n",
       "      <th>DateTime</th>\n",
       "      <th>outcome_type</th>\n",
       "      <th>animal_type</th>\n",
       "      <th>sex_upon_outcome</th>\n",
       "      <th>Age upon Outcome</th>\n",
       "      <th>Breed</th>\n",
       "      <th>Color</th>\n",
       "    </tr>\n",
       "  </thead>\n",
       "  <tbody>\n",
       "    <tr>\n",
       "      <th>0</th>\n",
       "      <td>A794011</td>\n",
       "      <td>2019-05-08 18:20:00</td>\n",
       "      <td>Rto-Adopt</td>\n",
       "      <td>Cat</td>\n",
       "      <td>Neutered Male</td>\n",
       "      <td>2 years</td>\n",
       "      <td>Domestic Shorthair Mix</td>\n",
       "      <td>Brown Tabby/White</td>\n",
       "    </tr>\n",
       "    <tr>\n",
       "      <th>1</th>\n",
       "      <td>A776359</td>\n",
       "      <td>2018-07-18 16:02:00</td>\n",
       "      <td>Adoption</td>\n",
       "      <td>Dog</td>\n",
       "      <td>Neutered Male</td>\n",
       "      <td>1 year</td>\n",
       "      <td>Chihuahua Shorthair Mix</td>\n",
       "      <td>White/Brown</td>\n",
       "    </tr>\n",
       "    <tr>\n",
       "      <th>2</th>\n",
       "      <td>A821648</td>\n",
       "      <td>2020-08-16 11:38:00</td>\n",
       "      <td>Euthanasia</td>\n",
       "      <td>Other</td>\n",
       "      <td>Unknown</td>\n",
       "      <td>1 year</td>\n",
       "      <td>Raccoon</td>\n",
       "      <td>Gray</td>\n",
       "    </tr>\n",
       "    <tr>\n",
       "      <th>3</th>\n",
       "      <td>A720371</td>\n",
       "      <td>2016-02-13 17:59:00</td>\n",
       "      <td>Adoption</td>\n",
       "      <td>Dog</td>\n",
       "      <td>Neutered Male</td>\n",
       "      <td>4 months</td>\n",
       "      <td>Anatol Shepherd/Labrador Retriever</td>\n",
       "      <td>Buff</td>\n",
       "    </tr>\n",
       "    <tr>\n",
       "      <th>4</th>\n",
       "      <td>A674754</td>\n",
       "      <td>2014-03-18 11:47:00</td>\n",
       "      <td>Transfer</td>\n",
       "      <td>Cat</td>\n",
       "      <td>Intact Male</td>\n",
       "      <td>6 days</td>\n",
       "      <td>Domestic Shorthair Mix</td>\n",
       "      <td>Orange Tabby</td>\n",
       "    </tr>\n",
       "  </tbody>\n",
       "</table>\n",
       "</div>"
      ],
      "text/plain": [
       "  Animal ID            DateTime outcome_type animal_type sex_upon_outcome  \\\n",
       "0   A794011 2019-05-08 18:20:00    Rto-Adopt         Cat    Neutered Male   \n",
       "1   A776359 2018-07-18 16:02:00     Adoption         Dog    Neutered Male   \n",
       "2   A821648 2020-08-16 11:38:00   Euthanasia       Other          Unknown   \n",
       "3   A720371 2016-02-13 17:59:00     Adoption         Dog    Neutered Male   \n",
       "4   A674754 2014-03-18 11:47:00     Transfer         Cat      Intact Male   \n",
       "\n",
       "  Age upon Outcome                               Breed              Color  \n",
       "0          2 years              Domestic Shorthair Mix  Brown Tabby/White  \n",
       "1           1 year             Chihuahua Shorthair Mix        White/Brown  \n",
       "2           1 year                             Raccoon               Gray  \n",
       "3         4 months  Anatol Shepherd/Labrador Retriever               Buff  \n",
       "4           6 days              Domestic Shorthair Mix       Orange Tabby  "
      ]
     },
     "execution_count": 22,
     "metadata": {},
     "output_type": "execute_result"
    }
   ],
   "source": [
    "data2.head()"
   ]
  }
 ],
 "metadata": {
  "kernelspec": {
   "display_name": "Python 3 (ipykernel)",
   "language": "python",
   "name": "python3"
  },
  "language_info": {
   "codemirror_mode": {
    "name": "ipython",
    "version": 3
   },
   "file_extension": ".py",
   "mimetype": "text/x-python",
   "name": "python",
   "nbconvert_exporter": "python",
   "pygments_lexer": "ipython3",
   "version": "3.9.13"
  }
 },
 "nbformat": 4,
 "nbformat_minor": 4
}
